{
 "cells": [
  {
   "cell_type": "markdown",
   "metadata": {},
   "source": [
    "# Spark tutorial"
   ]
  },
  {
   "cell_type": "markdown",
   "metadata": {},
   "source": [
    "For the linux guys, load ipython notebook with IPYTHON_OPTS=\"notebook --pylab inline\" ./bin/pyspark"
   ]
  },
  {
   "cell_type": "markdown",
   "metadata": {},
   "source": [
    "Two important variables : contexts"
   ]
  },
  {
   "cell_type": "code",
   "execution_count": 1,
   "metadata": {
    "collapsed": false
   },
   "outputs": [
    {
     "data": {
      "text/plain": [
       "<pyspark.context.SparkContext at 0x7f27a8cfcd90>"
      ]
     },
     "execution_count": 1,
     "metadata": {},
     "output_type": "execute_result"
    }
   ],
   "source": [
    "sc"
   ]
  },
  {
   "cell_type": "code",
   "execution_count": 2,
   "metadata": {
    "collapsed": false
   },
   "outputs": [
    {
     "data": {
      "text/plain": [
       "<pyspark.sql.context.SQLContext at 0x7f27916f36d0>"
      ]
     },
     "execution_count": 2,
     "metadata": {},
     "output_type": "execute_result"
    }
   ],
   "source": [
    "sqlContext"
   ]
  },
  {
   "cell_type": "markdown",
   "metadata": {},
   "source": [
    "Ipython notebook supports some shell commands."
   ]
  },
  {
   "cell_type": "markdown",
   "metadata": {},
   "source": [
    "##Loading the data\n",
    "We are using data from [KDD99](http://kdd.ics.uci.edu/databases/kddcup99). Please, check out the website for more information."
   ]
  },
  {
   "cell_type": "code",
   "execution_count": 3,
   "metadata": {
    "collapsed": false
   },
   "outputs": [],
   "source": [
    "import urllib\n",
    "f = urllib.urlretrieve(\"http://kdd.ics.uci.edu/databases/kddcup99/kddcup.data_10_percent.gz\", \"kddcup.data_10_percent.gz\")"
   ]
  },
  {
   "cell_type": "markdown",
   "metadata": {},
   "source": [
    "Reads file and returns a RDD containing each line"
   ]
  },
  {
   "cell_type": "code",
   "execution_count": 5,
   "metadata": {
    "collapsed": false
   },
   "outputs": [
    {
     "data": {
      "text/plain": [
       "u'0,tcp,http,SF,181,5450,0,0,0,0,0,1,0,0,0,0,0,0,0,0,0,0,8,8,0.00,0.00,0.00,0.00,1.00,0.00,0.00,9,9,1.00,0.00,0.11,0.00,0.00,0.00,0.00,0.00,normal.'"
      ]
     },
     "execution_count": 5,
     "metadata": {},
     "output_type": "execute_result"
    }
   ],
   "source": [
    "featuresFile = sc.textFile(\"kddcup.data_10_percent.gz\")\n",
    "featuresFile.first()"
   ]
  },
  {
   "cell_type": "markdown",
   "metadata": {},
   "source": [
    "Count number of lines in the file"
   ]
  },
  {
   "cell_type": "code",
   "execution_count": 6,
   "metadata": {
    "collapsed": false
   },
   "outputs": [
    {
     "data": {
      "text/plain": [
       "494021"
      ]
     },
     "execution_count": 6,
     "metadata": {},
     "output_type": "execute_result"
    }
   ],
   "source": [
    "featuresFile.count()"
   ]
  },
  {
   "cell_type": "code",
   "execution_count": 7,
   "metadata": {
    "collapsed": false
   },
   "outputs": [
    {
     "name": "stdout",
     "output_type": "stream",
     "text": [
      "7747\r\n"
     ]
    }
   ],
   "source": [
    "!cat kddcup.data_10_percent.gz | wc -l"
   ]
  },
  {
   "cell_type": "markdown",
   "metadata": {},
   "source": [
    "##Basic arithmetic\n",
    "Basic operations on an RDD."
   ]
  },
  {
   "cell_type": "code",
   "execution_count": 8,
   "metadata": {
    "collapsed": true
   },
   "outputs": [],
   "source": [
    "a = range(100)\n",
    "p = sc.parallelize(a)"
   ]
  },
  {
   "cell_type": "markdown",
   "metadata": {},
   "source": [
    "Sum of elements"
   ]
  },
  {
   "cell_type": "code",
   "execution_count": 10,
   "metadata": {
    "collapsed": false
   },
   "outputs": [
    {
     "data": {
      "text/plain": [
       "4950"
      ]
     },
     "execution_count": 10,
     "metadata": {},
     "output_type": "execute_result"
    }
   ],
   "source": [
    "p.sum()"
   ]
  },
  {
   "cell_type": "markdown",
   "metadata": {},
   "source": [
    "Sum of square elements"
   ]
  },
  {
   "cell_type": "code",
   "execution_count": 13,
   "metadata": {
    "collapsed": false
   },
   "outputs": [
    {
     "name": "stdout",
     "output_type": "stream",
     "text": [
      "[0, 1]\n",
      "[0, 1]\n"
     ]
    },
    {
     "data": {
      "text/plain": [
       "328350"
      ]
     },
     "execution_count": 13,
     "metadata": {},
     "output_type": "execute_result"
    }
   ],
   "source": [
    "def square(elmt):\n",
    "    return elmt**2\n",
    "\n",
    "# With named function\n",
    "print p.map(square).take(2)\n",
    "# With anonymous function or lambda\n",
    "print p.map(lambda elmt: elmt**2).take(2)\n",
    "\n",
    "p.map(lambda elmt: elmt**2).sum()"
   ]
  },
  {
   "cell_type": "markdown",
   "metadata": {
    "collapsed": true
   },
   "source": [
    "Sum of even elements"
   ]
  },
  {
   "cell_type": "code",
   "execution_count": 14,
   "metadata": {
    "collapsed": false
   },
   "outputs": [
    {
     "name": "stdout",
     "output_type": "stream",
     "text": [
      "2500\n"
     ]
    }
   ],
   "source": [
    "print p.filter(lambda elmt: elmt%2).sum()"
   ]
  },
  {
   "cell_type": "markdown",
   "metadata": {},
   "source": [
    "##Playing with data"
   ]
  },
  {
   "cell_type": "markdown",
   "metadata": {},
   "source": [
    "Counting the number of lines containing \".normal\""
   ]
  },
  {
   "cell_type": "code",
   "execution_count": 16,
   "metadata": {
    "collapsed": false
   },
   "outputs": [
    {
     "data": {
      "text/plain": [
       "[u'0,tcp,http,SF,181,5450,0,0,0,0,0,1,0,0,0,0,0,0,0,0,0,0,8,8,0.00,0.00,0.00,0.00,1.00,0.00,0.00,9,9,1.00,0.00,0.11,0.00,0.00,0.00,0.00,0.00,normal.']"
      ]
     },
     "execution_count": 16,
     "metadata": {},
     "output_type": "execute_result"
    }
   ],
   "source": [
    "featuresFile.take(1)"
   ]
  },
  {
   "cell_type": "code",
   "execution_count": 38,
   "metadata": {
    "collapsed": false
   },
   "outputs": [],
   "source": [
    "# types = [int,str, str, str] + [int]*20 + [float]*7 + [int, int] + [float]*8 + [str]\n",
    "\n",
    "# for (e,t) in zip(featuresFile.take(1)[0].split(\",\"), types):\n",
    "#     print e, t"
   ]
  },
  {
   "cell_type": "code",
   "execution_count": 17,
   "metadata": {
    "collapsed": false
   },
   "outputs": [
    {
     "name": "stdout",
     "output_type": "stream",
     "text": [
      "97278\n"
     ]
    }
   ],
   "source": [
    "print featuresFile.filter(lambda line: \"normal.\" in line).count()"
   ]
  },
  {
   "cell_type": "markdown",
   "metadata": {},
   "source": [
    "Lazy parsing the entire file. How to parse the dataset is described on the website. But basically, all attributes are possible features except the 41st which is the label of the interaction."
   ]
  },
  {
   "cell_type": "code",
   "execution_count": 39,
   "metadata": {
    "collapsed": false
   },
   "outputs": [],
   "source": [
    "def parseLine(line):\n",
    "    \n",
    "    types = [int,str, str, str] + [int]*20 + [float]*7 + [int, int] + [float]*8 + [str]\n",
    "    \n",
    "    elems = [ t(e) for (e, t) in zip(line.split(\",\"), types) ]\n",
    "    \n",
    "    tag = elems[41]\n",
    "    \n",
    "    return (tag, elems)\n",
    "\n",
    "featuresRDD = featuresFile.map(parseLine)"
   ]
  },
  {
   "cell_type": "markdown",
   "metadata": {},
   "source": [
    "Counting elements tagged as normal"
   ]
  },
  {
   "cell_type": "code",
   "execution_count": 41,
   "metadata": {
    "collapsed": false
   },
   "outputs": [
    {
     "data": {
      "text/plain": [
       "97278"
      ]
     },
     "execution_count": 41,
     "metadata": {},
     "output_type": "execute_result"
    }
   ],
   "source": [
    "featuresRDD.filter(lambda x: x[0]==\"normal.\").count()"
   ]
  },
  {
   "cell_type": "markdown",
   "metadata": {},
   "source": [
    "Computing some basic operations: mean and filtering\n",
    "\n",
    "Note: The lines are only parsed when an action is called"
   ]
  },
  {
   "cell_type": "code",
   "execution_count": 44,
   "metadata": {
    "collapsed": false,
    "scrolled": true
   },
   "outputs": [
    {
     "data": {
      "text/plain": [
       "['domain',\n",
       " 'http_443',\n",
       " 'Z39_50',\n",
       " 'smtp',\n",
       " 'urp_i',\n",
       " 'private',\n",
       " 'echo',\n",
       " 'shell',\n",
       " 'red_i',\n",
       " 'eco_i',\n",
       " 'sunrpc',\n",
       " 'ftp_data',\n",
       " 'urh_i',\n",
       " 'pm_dump',\n",
       " 'pop_3',\n",
       " 'pop_2',\n",
       " 'systat',\n",
       " 'ftp',\n",
       " 'uucp',\n",
       " 'whois',\n",
       " 'netbios_dgm',\n",
       " 'efs',\n",
       " 'remote_job',\n",
       " 'daytime',\n",
       " 'ntp_u',\n",
       " 'finger',\n",
       " 'ldap',\n",
       " 'netbios_ns',\n",
       " 'kshell',\n",
       " 'iso_tsap',\n",
       " 'ecr_i',\n",
       " 'nntp',\n",
       " 'printer',\n",
       " 'domain_u',\n",
       " 'uucp_path',\n",
       " 'courier',\n",
       " 'exec',\n",
       " 'time',\n",
       " 'netstat',\n",
       " 'telnet',\n",
       " 'gopher',\n",
       " 'rje',\n",
       " 'sql_net',\n",
       " 'link',\n",
       " 'auth',\n",
       " 'netbios_ssn',\n",
       " 'csnet_ns',\n",
       " 'X11',\n",
       " 'IRC',\n",
       " 'tftp_u',\n",
       " 'login',\n",
       " 'supdup',\n",
       " 'name',\n",
       " 'nnsp',\n",
       " 'mtp',\n",
       " 'http',\n",
       " 'bgp',\n",
       " 'ctf',\n",
       " 'hostnames',\n",
       " 'klogin',\n",
       " 'vmnet',\n",
       " 'tim_i',\n",
       " 'discard',\n",
       " 'imap4',\n",
       " 'other',\n",
       " 'ssh']"
      ]
     },
     "execution_count": 44,
     "metadata": {},
     "output_type": "execute_result"
    }
   ],
   "source": [
    "# indf = 1 protocol\n",
    "# indf = 2 service\n",
    "featuresRDD.map(lambda features: features[1][2]).distinct().collect()"
   ]
  },
  {
   "cell_type": "code",
   "execution_count": 46,
   "metadata": {
    "collapsed": false
   },
   "outputs": [
    {
     "data": {
      "text/plain": [
       "494021"
      ]
     },
     "execution_count": 46,
     "metadata": {},
     "output_type": "execute_result"
    }
   ],
   "source": [
    "featuresRDD.filter(lambda features: features[1][3] >0).count()"
   ]
  },
  {
   "cell_type": "markdown",
   "metadata": {},
   "source": [
    "Interesting experiments\n",
    "\n",
    "* You can take advantage of common pipeline elements"
   ]
  },
  {
   "cell_type": "code",
   "execution_count": 5,
   "metadata": {
    "collapsed": false
   },
   "outputs": [
    {
     "name": "stdout",
     "output_type": "stream",
     "text": [
      "CPU times: user 8 ms, sys: 4 ms, total: 12 ms\n",
      "Wall time: 1.25 s\n"
     ]
    }
   ],
   "source": [
    "%%time\n",
    "featureToFilter = 1\n",
    "featuresRDD.filter(lambda features: features[1][3] >0).count()"
   ]
  },
  {
   "cell_type": "code",
   "execution_count": 6,
   "metadata": {
    "collapsed": false
   },
   "outputs": [
    {
     "name": "stdout",
     "output_type": "stream",
     "text": [
      "CPU times: user 12 ms, sys: 0 ns, total: 12 ms\n",
      "Wall time: 1.28 s\n"
     ]
    }
   ],
   "source": [
    "%%time\n",
    "featureToFilter = 2\n",
    "featuresRDD.filter(lambda features: features[1][4] >0).count()"
   ]
  },
  {
   "cell_type": "code",
   "execution_count": 47,
   "metadata": {
    "collapsed": false
   },
   "outputs": [
    {
     "name": "stdout",
     "output_type": "stream",
     "text": [
      "CPU times: user 22.8 ms, sys: 8.45 ms, total: 31.2 ms\n",
      "Wall time: 23.8 s\n"
     ]
    }
   ],
   "source": [
    "%%time\n",
    "featuresRDD.cache() # Store results in memory // Other persistance scheme could be used DISK, MEMORY_AND_DISK ...\n",
    "\n",
    "featuresRDD.filter(lambda features: features[1][4] >0).count()\n",
    "\n",
    "featuresRDD.filter(lambda features: features[1][3] >0).count()"
   ]
  },
  {
   "cell_type": "markdown",
   "metadata": {},
   "source": [
    "Lazy definition of the operations to do "
   ]
  },
  {
   "cell_type": "markdown",
   "metadata": {},
   "source": [
    "Compute the mean"
   ]
  },
  {
   "cell_type": "code",
   "execution_count": 50,
   "metadata": {
    "collapsed": false
   },
   "outputs": [
    {
     "data": {
      "text/plain": [
       "3025.6102959186424"
      ]
     },
     "execution_count": 50,
     "metadata": {},
     "output_type": "execute_result"
    }
   ],
   "source": [
    "featuresRDD.map(lambda features: features[1][4]).mean()"
   ]
  },
  {
   "cell_type": "markdown",
   "metadata": {},
   "source": [
    "Test of classic ML operations"
   ]
  },
  {
   "cell_type": "markdown",
   "metadata": {},
   "source": [
    "##KMeans"
   ]
  },
  {
   "cell_type": "markdown",
   "metadata": {
    "collapsed": false
   },
   "source": [
    "Let's get to work ... Implement a k means algorithm on the dataset"
   ]
  },
  {
   "cell_type": "markdown",
   "metadata": {},
   "source": [
    "Extract some features to decrease computing time"
   ]
  },
  {
   "cell_type": "code",
   "execution_count": 101,
   "metadata": {
    "collapsed": true
   },
   "outputs": [],
   "source": [
    "inputRDD = featuresRDD.map(lambda features: features[1][4:15])"
   ]
  },
  {
   "cell_type": "code",
   "execution_count": 102,
   "metadata": {
    "collapsed": false
   },
   "outputs": [],
   "source": [
    "inputRDD = inputRDD.sample(False,0.01)"
   ]
  },
  {
   "cell_type": "code",
   "execution_count": 62,
   "metadata": {
    "collapsed": false
   },
   "outputs": [],
   "source": [
    "import numpy as np\n",
    "\n",
    "def closestTo(datapoint, centerList):\n",
    "    \n",
    "    datapoint = np.array(datapoint)\n",
    "    \n",
    "    distanceList = [ np.sum((datapoint - center)**2)  for center in centerList]\n",
    "    \n",
    "    return np.argmin(distanceList)"
   ]
  },
  {
   "cell_type": "markdown",
   "metadata": {},
   "source": [
    "Random initialisation"
   ]
  },
  {
   "cell_type": "code",
   "execution_count": 92,
   "metadata": {
    "collapsed": false
   },
   "outputs": [],
   "source": [
    "N = 10 # Number of centroids\n",
    "from numpy.random import rand\n",
    "centroidsList = []\n",
    "for indCentroid in range(N):\n",
    "    centroidsList.append(rand(1,11))"
   ]
  },
  {
   "cell_type": "code",
   "execution_count": 93,
   "metadata": {
    "collapsed": false
   },
   "outputs": [
    {
     "data": {
      "text/plain": [
       "8"
      ]
     },
     "execution_count": 93,
     "metadata": {},
     "output_type": "execute_result"
    }
   ],
   "source": [
    "closestTo(rand(1,11), centroidsList)"
   ]
  },
  {
   "cell_type": "markdown",
   "metadata": {},
   "source": [
    "Simplest kMeans algorithm:\n",
    "* Compute centroids of each cluster\n",
    "* Update centroids\n",
    "* Repeat\n",
    "\n",
    "Explanations:\n",
    "* First transformation: datapoint -> (closest centroid Index , ( datapoint, 1 ) )\n",
    "* Reduce By Key: Aggregate for each centroid \n",
    "    - ( datapoint1, pop1 ) and ( datapoint2, pop2 ) => (datapoint1 + datapoint2 , pop1+pop2)\n",
    "* So that at the end, \n",
    "    - (cluster Index, (sum of datapoint in cluster , number of datapoints in cluster) )\n",
    "    - Can compute the centroid"
   ]
  },
  {
   "cell_type": "code",
   "execution_count": 103,
   "metadata": {
    "collapsed": false
   },
   "outputs": [],
   "source": [
    "for t in range(5):\n",
    "    \n",
    "    # Compute centroids of clusters\n",
    "    \n",
    "    newCentroids = inputRDD.map(lambda data:\n",
    "               (closestTo(data, centroidsList) , ( np.array(data) ,1 ) )\n",
    "               ).reduceByKey( lambda (datapoint1, eff1 ), (datapoint2,eff2):\n",
    "                             ((datapoint1+datapoint2),(eff1+eff2))\n",
    "                             ).collect()\n",
    "    \n",
    "    # Update centroids with new ones\n",
    "    \n",
    "    for stats in newCentroids:\n",
    "        centroidIndex = stats[0]\n",
    "        newCentroid = stats[1][0] / stats[1][1]\n",
    "\n",
    "        centroidsList[centroidIndex] = newCentroid\n",
    "        \n",
    "    # Repeat ..."
   ]
  },
  {
   "cell_type": "markdown",
   "metadata": {},
   "source": [
    "Final centroids"
   ]
  },
  {
   "cell_type": "code",
   "execution_count": 104,
   "metadata": {
    "collapsed": false
   },
   "outputs": [
    {
     "data": {
      "text/plain": [
       "[array([3664247,       0,       0,       0,       0,       1,       0,\n",
       "              1,       0,       0,       0]),\n",
       " array([468,   2,   0,   0,   0,   0,   0,   0,   0,   0,   0]),\n",
       " array([[ 0.11603557,  0.41126311,  0.51308471,  0.31779167,  0.87743239,\n",
       "          0.77976412,  0.24335836,  0.83978181,  0.89069832,  0.46411378,\n",
       "          0.21869815]]),\n",
       " array([26,  4,  0,  0,  0,  0,  0,  0,  0,  0,  0]),\n",
       " array([1764,  100,    0,    0,    0,    0,    0,    0,    0,    0,    0]),\n",
       " array([107, 138,   0,   0,   0,   0,   0,   0,   0,   0,   0]),\n",
       " array([  246, 16620,     0,     0,     0,     0,     0,     1,     0,\n",
       "            0,     0]),\n",
       " array([8, 0, 0, 0, 0, 0, 0, 0, 0, 0, 0]),\n",
       " array([ 339, 1569,    0,    0,    0,    0,    0,    0,    0,    0,    0]),\n",
       " array([0, 0, 0, 0, 0, 0, 0, 0, 0, 0, 0])]"
      ]
     },
     "execution_count": 104,
     "metadata": {},
     "output_type": "execute_result"
    }
   ],
   "source": [
    "centroidsList"
   ]
  }
 ],
 "metadata": {
  "kernelspec": {
   "display_name": "Python 2",
   "language": "python",
   "name": "python2"
  },
  "language_info": {
   "codemirror_mode": {
    "name": "ipython",
    "version": 2
   },
   "file_extension": ".py",
   "mimetype": "text/x-python",
   "name": "python",
   "nbconvert_exporter": "python",
   "pygments_lexer": "ipython2",
   "version": "2.7.10"
  }
 },
 "nbformat": 4,
 "nbformat_minor": 0
}
